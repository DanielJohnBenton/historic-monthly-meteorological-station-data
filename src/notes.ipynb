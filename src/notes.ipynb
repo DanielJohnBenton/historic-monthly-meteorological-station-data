{
 "cells": [
  {
   "cell_type": "code",
   "execution_count": 1,
   "metadata": {},
   "outputs": [],
   "source": [
    "from csv import DictReader"
   ]
  },
  {
   "cell_type": "code",
   "execution_count": 2,
   "metadata": {},
   "outputs": [],
   "source": [
    "import seaborn\n",
    "import matplotlib\n",
    "from matplotlib import pyplot\n",
    "from numpy import arange"
   ]
  },
  {
   "cell_type": "code",
   "execution_count": 3,
   "metadata": {},
   "outputs": [],
   "source": [
    "locationFiles = []\n",
    "\n",
    "with open(\"formatted_data/locations_final.csv\", \"r\", encoding=\"utf-8\") as locationsCsvFile:\n",
    "    reader = DictReader(locationsCsvFile)\n",
    "    for row in reader:\n",
    "        locationFiles.append(row[\"ref\"] +\".csv\")"
   ]
  },
  {
   "cell_type": "code",
   "execution_count": 4,
   "metadata": {},
   "outputs": [],
   "source": [
    "monthCounts = []\n",
    "monthCountsLookup = {}\n",
    "\n",
    "for locationFile in locationFiles:\n",
    "    with open(f\"formatted_data/{locationFile}\", \"r\", encoding=\"utf-8\") as locationCsvFile:\n",
    "        reader = DictReader(locationCsvFile)\n",
    "        for row in reader:\n",
    "            year = row[\"yyyy\"]\n",
    "            month = row[\"mm\"]\n",
    "            monthId = f\"{year}-{month}\"\n",
    "            if monthId in monthCountsLookup:\n",
    "                monthCounts[monthCountsLookup[monthId]][\"COUNT\"] += 1\n",
    "                #monthCounts[monthCountsLookup[monthId]][\"STATIONS\"].append(locationFile.split(\"data.\")[0])\n",
    "            else:\n",
    "                monthCountsLookup[monthId] = len(monthCounts)\n",
    "                monthCounts.append({\n",
    "                    \"YEAR\": int(year),\n",
    "                    \"MONTH\": int(month),\n",
    "                    \"DISPLAY\": monthId,\n",
    "                    \"COUNT\": 1\n",
    "                    #\"STATIONS\": [locationFile.split(\"data.\")[0]]\n",
    "                })\n",
    "\n",
    "monthCounts.sort(key=lambda x: (x[\"YEAR\"], x[\"MONTH\"]))"
   ]
  },
  {
   "cell_type": "code",
   "execution_count": 5,
   "metadata": {},
   "outputs": [
    {
     "data": {
      "text/plain": [
       "['bmh',\n",
       " 'classic',\n",
       " 'dark_background',\n",
       " 'fast',\n",
       " 'fivethirtyeight',\n",
       " 'ggplot',\n",
       " 'grayscale',\n",
       " 'seaborn-bright',\n",
       " 'seaborn-colorblind',\n",
       " 'seaborn-dark-palette',\n",
       " 'seaborn-dark',\n",
       " 'seaborn-darkgrid',\n",
       " 'seaborn-deep',\n",
       " 'seaborn-muted',\n",
       " 'seaborn-notebook',\n",
       " 'seaborn-paper',\n",
       " 'seaborn-pastel',\n",
       " 'seaborn-poster',\n",
       " 'seaborn-talk',\n",
       " 'seaborn-ticks',\n",
       " 'seaborn-white',\n",
       " 'seaborn-whitegrid',\n",
       " 'seaborn',\n",
       " 'Solarize_Light2',\n",
       " '_classic_test']"
      ]
     },
     "execution_count": 5,
     "metadata": {},
     "output_type": "execute_result"
    }
   ],
   "source": [
    "pyplot.style.available"
   ]
  },
  {
   "cell_type": "code",
   "execution_count": 7,
   "metadata": {},
   "outputs": [
    {
     "data": {
      "image/png": "[encoded data removed]",
      "text/plain": [
       "<matplotlib.figure.Figure at 0xf7d7ff0dd8>"
      ]
     },
     "metadata": {},
     "output_type": "display_data"
    }
   ],
   "source": [
    "monthCountsLookup = {}\n",
    "for iMonth in range(len(monthCounts)):\n",
    "    monthCountsLookup[monthCounts[iMonth][\"DISPLAY\"]] = iMonth\n",
    "\n",
    "displayYears = [\"1860\", \"1880\", \"1900\", \"1920\", \"1940\", \"1960\", \"1980\", \"2000\"]\n",
    "displayMonths = []\n",
    "for year in displayYears:\n",
    "    displayMonths.append(monthCountsLookup[f\"{year}-1\"])\n",
    "\n",
    "months = [month[\"DISPLAY\"] for month in monthCounts]\n",
    "counts = [month[\"COUNT\"] for month in monthCounts]\n",
    "\n",
    "matplotlib.rcParams[\"figure.figsize\"] = (15, 10)\n",
    "pyplot.style.use(\"ggplot\")\n",
    "#with pyplot.xkcd():\n",
    "#pyplot.plot(list(range(len(display))), counts)\n",
    "pyplot.scatter(months, counts)\n",
    "pyplot.xticks(displayMonths, displayYears)\n",
    "pyplot.autoscale(enable=True, axis=\"both\")\n",
    "pyplot.show()"
   ]
  },
  {
   "cell_type": "code",
   "execution_count": null,
   "metadata": {},
   "outputs": [],
   "source": []
  }
 ],
 "metadata": {
  "kernelspec": {
   "display_name": "Python 3",
   "language": "python",
   "name": "python3"
  },
  "language_info": {
   "codemirror_mode": {
    "name": "ipython",
    "version": 3
   },
   "file_extension": ".py",
   "mimetype": "text/x-python",
   "name": "python",
   "nbconvert_exporter": "python",
   "pygments_lexer": "ipython3",
   "version": "3.6.3"
  }
 },
 "nbformat": 4,
 "nbformat_minor": 2
}
